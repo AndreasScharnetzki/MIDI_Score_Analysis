{
 "cells": [
  {
   "cell_type": "markdown",
   "metadata": {},
   "source": [
    "# Music Analyzer\n",
    "---\n",
    "---"
   ]
  },
  {
   "cell_type": "markdown",
   "metadata": {},
   "source": [
    "## Requirements\n",
    "---"
   ]
  },
  {
   "cell_type": "code",
   "execution_count": null,
   "metadata": {},
   "outputs": [],
   "source": [
    "\"\"\"Ressources\"\"\"\n",
    "# https://www.classicalarchives.com (accessed: 27.12.2021)\n",
    "\"\"\"MIDI Objects for Python\"\"\"\n",
    "# https://mido.readthedocs.io/en/latest/\n",
    "# pip install mido\n",
    "\"\"\"Matplotlib\"\"\"\n",
    "# pip install -U matplotlib"
   ]
  },
  {
   "cell_type": "markdown",
   "metadata": {},
   "source": [
    "## Imports and loading the data\n",
    "---"
   ]
  },
  {
   "cell_type": "code",
   "execution_count": 1,
   "metadata": {},
   "outputs": [],
   "source": [
    "import mido\n",
    "import os.path\n",
    "import matplotlib.pyplot as plt\n",
    "\n",
    "filename = \"bwv030_8.mid\"\n",
    "data_path = os.path.join(\"data\", filename)\n",
    "\n",
    "# load midi file\n",
    "mid = mido.MidiFile(data_path)"
   ]
  },
  {
   "cell_type": "markdown",
   "metadata": {},
   "source": [
    "## Retrieve Information\n",
    "---"
   ]
  },
  {
   "cell_type": "code",
   "execution_count": 2,
   "metadata": {},
   "outputs": [],
   "source": [
    "# dictionary mapping midi value (keys) to associated note name (value)\n",
    "note_value_dict = {\n",
    "    0 : \"C\",\n",
    "    1 : \"C♯/D♭\",\n",
    "    2 : \"D\",\n",
    "    3 : \"D♯/E♭\",\n",
    "    4 : \"E\",\n",
    "    5 : \"F\",\n",
    "    6 : \"F♯/G♭\",\n",
    "    7 : \"G\",\n",
    "    8 : \"G♯/A♭\",\n",
    "    9 : \"A\",\n",
    "    10 : \"A♯/B♭\",\n",
    "    11 : \"B\"\n",
    "}\n",
    "# get a list of all the note values, ranging from 0-127\n",
    "# note name reference: https://www.inspiredacoustics.com/en/MIDI_note_numbers_and_center_frequencies (accessed 31.12.2021) \n",
    "notes = [msg.note for msg in mid if msg.type == \"note_on\"]\n",
    "# reducing frequency space complexity to the range of one octave\n",
    "note_values_reduced = [note_value % 12 for note_value in notes]\n",
    "# count note occurrences \n",
    "frequency_of_occurrence = {}\n",
    "for note_value in note_value_dict.keys():\n",
    "    frequency_of_occurrence[note_value_dict[note_value]] = note_values_reduced.count(note_value)\n",
    "# sort dict by values (high to low)\n",
    "sorted_dict = {k: v for k, v in sorted(frequency_of_occurrence.items(), key=lambda item: item[1], reverse=True)}"
   ]
  },
  {
   "cell_type": "markdown",
   "metadata": {},
   "source": [
    "## Display information\n",
    "---"
   ]
  },
  {
   "cell_type": "code",
   "execution_count": 3,
   "metadata": {},
   "outputs": [
    {
     "data": {
      "image/png": "[encoded data removed]",
      "text/plain": [
       "<Figure size 432x288 with 1 Axes>"
      ]
     },
     "metadata": {
      "needs_background": "light"
     },
     "output_type": "display_data"
    }
   ],
   "source": [
    "# helper method, trying to fetch key of piece if provided (track 0 usually contains meta data)\n",
    "def get_key(midi_file):\n",
    "    for msg in mid.tracks[0]:\n",
    "        if msg.type == \"key_signature\":\n",
    "            return msg.key\n",
    "    return None\n",
    "\n",
    "# helper method, trying to fetch title of piece if provided\n",
    "def get_title(midi_file, verbose = False):\n",
    "    title = []\n",
    "    for msg in mid.tracks[0]:\n",
    "        if msg.type == \"track_name\":\n",
    "            title.append(msg.name)\n",
    "        if msg.type == \"text\" and verbose:\n",
    "            title.append(msg.text)\n",
    "    if len(title) > 0:\n",
    "        return \" \".join(title).strip()\n",
    "    else:\n",
    "        return None\n",
    "\n",
    "# create the plot from dictionary\n",
    "barlist = plt.bar(sorted_dict.keys(), sorted_dict.values())\n",
    "plt.ylabel(\"Occurrences\")\n",
    "plt.xlabel(\"Notes\")\n",
    "plt.xticks(rotation = 45)\n",
    "# add exact count upon corresponding bar\n",
    "ax = plt.gca()\n",
    "plt.bar_label(ax.containers[0])\n",
    "\n",
    "# add meta data if present\n",
    "title_str = get_title(mid) \n",
    "if title_str is not None:\n",
    "    plt.title(title_str, fontweight= \"bold\")\n",
    "\n",
    "# highlight the root note\n",
    "key = get_key(mid)\n",
    "if key is not None and key in sorted_dict:\n",
    "    barlist[list(sorted_dict.keys()).index(key)].set_color(\"red\")\n",
    "\n",
    "plt.show()"
   ]
  },
  {
   "cell_type": "markdown",
   "metadata": {},
   "source": [
    "## Transposition\n",
    "---"
   ]
  },
  {
   "cell_type": "code",
   "execution_count": 12,
   "metadata": {},
   "outputs": [],
   "source": [
    "\"\"\"\n",
    "    use this method to calculate the number of semitone steps between the given root note and the desired key\n",
    "    \n",
    "    NOTE: this method will transpose UPWARDS, e.g. get_tonal_distance('C', 'D') will return \"2\", not \"10\"\n",
    "    \n",
    "    NOTE: for convenience sharp and flat notes will be accepted separately, pointing to the same numeric value,\n",
    "    additionally ASCII symbols are avoided and so the notes can be accessed by adding \"s\" or \"f\" to the note name, \n",
    "    e.g. \"C♯\" can be expressed as \"Cs\", same for example \"Gf\" will be interpreted as \"G♭\"\n",
    "\n",
    "    will return \"None\" if note names don't match given syntax\n",
    "\"\"\"\n",
    "def get_tonal_distance(root: str, transpose_to: str) -> int:\n",
    "    inverse_note_dict = {\n",
    "        \"C\" : 0,\n",
    "        \"Cs\": 1,\n",
    "        \"Df\": 1,\n",
    "        \"D\" : 2,\n",
    "        \"Ds\" : 3,\n",
    "        \"Ef\" : 3,\n",
    "        \"E\" : 4,\n",
    "        \"F\" : 5,\n",
    "        \"Fs\" : 6,\n",
    "        \"Gf\" : 6,\n",
    "        \"G\" : 7,\n",
    "        \"Gs\" : 8,\n",
    "        \"Af\" : 8,\n",
    "        \"A\" : 9,\n",
    "        \"As\" : 10,\n",
    "        \"Bf\" : 10,\n",
    "        \"B\" : 11\n",
    "    }\n",
    "    if root in inverse_note_dict and transpose_to in inverse_note_dict:\n",
    "        steps = 0\n",
    "        while True:\n",
    "            if (inverse_note_dict[root] + steps) % 12 == inverse_note_dict[transpose_to]:\n",
    "                return steps\n",
    "            steps += 1    \n",
    "    else:\n",
    "        return None    \n",
    "    \n",
    "\"\"\"use this method to transpose a given list of midi values by given amount of steps\"\"\"\n",
    "def transpose(midi_values: list, steps: int) -> list:\n",
    "    return [(note_value + steps) % 12 for note_value in midi_values]"
   ]
  }
 ],
 "metadata": {
  "interpreter": {
   "hash": "df0893f56f349688326838aaeea0de204df53a132722cbd565e54b24a8fec5f6"
  },
  "kernelspec": {
   "display_name": "Python 3.8.0 64-bit",
   "language": "python",
   "name": "python3"
  },
  "language_info": {
   "codemirror_mode": {
    "name": "ipython",
    "version": 3
   },
   "file_extension": ".py",
   "mimetype": "text/x-python",
   "name": "python",
   "nbconvert_exporter": "python",
   "pygments_lexer": "ipython3",
   "version": "3.7.6"
  },
  "orig_nbformat": 4
 },
 "nbformat": 4,
 "nbformat_minor": 2
}
